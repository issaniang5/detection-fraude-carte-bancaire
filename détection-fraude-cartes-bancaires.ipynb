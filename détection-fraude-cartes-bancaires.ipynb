{
 "cells": [
  {
   "cell_type": "markdown",
   "metadata": {},
   "source": [
    "# Détection de fraude par carte de crédit"
   ]
  },
  {
   "cell_type": "markdown",
   "metadata": {},
   "source": [
    "La fraude par carte de crédit se produit lorsque quelqu'un utilise les informations de carte de crédit ou de compte d'une autre personne pour effectuer des achats non autorisés ou accéder à des fonds par des avances de fonds. La fraude par carte de crédit ne se limite pas aux transactions en ligne; elle se produit également dans les magasins physiques. En tant que propriétaire d'entreprise, vous pouvez éviter de graves tracas – et une mauvaise publicité – en reconnaissant une utilisation potentiellement frauduleuse des cartes de crédit dans votre environnement de paiement.\n"
   ]
  },
  {
   "cell_type": "markdown",
   "metadata": {},
   "source": [
    "# Problème\n",
    "Le problème de détection de fraude par carte de crédit consiste à modéliser les transactions passées de cartes de crédit en connaissant celles qui se sont avérées être frauduleuses. Ce modèle est ensuite utilisé pour identifier si une nouvelle transaction est frauduleuse ou non. Notre objectif ici est de détecter 100 % des transactions frauduleuses tout en minimisant les classifications incorrectes de fraude."
   ]
  },
  {
   "cell_type": "markdown",
   "metadata": {},
   "source": [
    "# Observation\n",
    " - Très peu de transactions sont réellement frauduleuses (moins de 1%). L'ensemble de données est fortement déséquilibré, comprenant 492 fraudes sur un total de 284 807 observations. Cela a entraîné seulement 0,172 % de cas de fraude. Cet ensemble déséquilibré est justifié par le faible nombre de transactions frauduleuses.\n",
    " - L'ensemble de données se compose de valeurs numériques provenant des 28 caractéristiques transformées par l'« Analyse en Composantes Principales (PCA) », à savoir V1 à V28. De plus, aucune métadonnée sur les caractéristiques d'origine n'est fournie, ce qui empêche toute analyse préalable ou étude des caractéristiques.\n",
    " - Les caractéristiques ‘Time’ et ‘Amount’ ne sont pas des données transformées.\n",
    " - Il n'y a pas de valeurs manquantes dans l'ensemble de données."
   ]
  },
  {
   "cell_type": "markdown",
   "metadata": {},
   "source": [
    "**Importation des bibliothèques**"
   ]
  },
  {
   "cell_type": "code",
   "execution_count": null,
   "metadata": {
    "tags": []
   },
   "outputs": [],
   "source": [
    "# Importation des bibliothèques nécessaires\n",
    "\n",
    "import numpy as np\n",
    "import pandas as pd\n",
    "import matplotlib.pyplot as plt\n",
    "import seaborn as sns\n",
    "\n",
    "# Ignorer les avertissements de future\n",
    "import warnings\n",
    "warnings.filterwarnings(\"ignore\", category=FutureWarning)\n",
    "warnings.warn('ignore', FutureWarning)\n",
    "\n",
    "# Configurer l'affichage des graphiques dans le notebook\n",
    "%matplotlib inline\n",
    "\n",
    "# Appliquer un style de graphique propre\n",
    "\n",
    "sns.set_style(\"whitegrid\")"
   ]
  },
  {
   "cell_type": "code",
   "execution_count": null,
   "metadata": {
    "tags": []
   },
   "outputs": [],
   "source": [
    "df = pd.read_csv('carte_de_credit..csv') # Chargement du fichier CSV contenant les données\n",
    "df.head()"
   ]
  },
  {
   "cell_type": "markdown",
   "metadata": {},
   "source": [
    "# Analyse exploratoire des données\n"
   ]
  },
  {
   "cell_type": "code",
   "execution_count": null,
   "metadata": {
    "tags": []
   },
   "outputs": [],
   "source": [
    "df.info() # Obtenir un résumé des informations du DataFrame"
   ]
  },
  {
   "cell_type": "code",
   "execution_count": null,
   "metadata": {
    "tags": []
   },
   "outputs": [],
   "source": [
    "# Réduire le nombre de décimales affichées dans le DataFrame\n",
    "pd.set_option(\"display.float\", \"{:.2f}\".format)\n",
    "df.describe()"
   ]
  },
  {
   "cell_type": "markdown",
   "metadata": {},
   "source": [
    "Check the missing value in dataset"
   ]
  },
  {
   "cell_type": "code",
   "execution_count": null,
   "metadata": {
    "tags": []
   },
   "outputs": [],
   "source": [
    "df.isnull().sum().sum() # Compter le nombre total de valeurs manquantes dans le DataFrame\n"
   ]
  },
  {
   "cell_type": "code",
   "execution_count": null,
   "metadata": {
    "tags": []
   },
   "outputs": [],
   "source": [
    "df.columns"
   ]
  },
  {
   "cell_type": "markdown",
   "metadata": {},
   "source": [
    "# Les seules variables non transformées avec lesquelles travailler sont :\n",
    "- Temps\n",
    "- Montant\n",
    "- Classe (1 : fraude, 0 : pas de fraude)"
   ]
  },
  {
   "cell_type": "code",
   "execution_count": null,
   "metadata": {
    "tags": []
   },
   "outputs": [],
   "source": [
    "labels = [\"Sûr\", \"Frauduleux\"]\n",
    "\n",
    "count_classes = pd.value_counts(df['Classe'], sort=True)\n",
    "count_classes.plot(kind='bar', rot=0)\n",
    "plt.title(\"Répartition des Classes de Transactions\")\n",
    "plt.xticks(range(2), labels)\n",
    "plt.xlabel(\"Classe\")\n",
    "plt.ylabel(\"Fréquence\")"
   ]
  },
  {
   "cell_type": "markdown",
   "metadata": {},
   "source": [
    "Ici, nous pouvons voir que, dans ce jeu de données, très peu de transactions sont réellement frauduleuses."
   ]
  },
  {
   "cell_type": "code",
   "execution_count": null,
   "metadata": {
    "tags": []
   },
   "outputs": [],
   "source": [
    "df['Classe'].value_counts()"
   ]
  },
  {
   "cell_type": "markdown",
   "metadata": {},
   "source": [
    "Notez à quel point notre jeu de données d'origine est déséquilibré ! La plupart des transactions ne sont pas frauduleuses. Si nous utilisons ce DataFrame comme base pour nos modèles prédictifs et nos analyses, nous risquons d'obtenir de nombreuses erreurs, et nos algorithmes risquent de surajuster car ils \"supposeront\" que la plupart des transactions ne sont pas frauduleuses. Mais nous ne voulons pas que notre modèle fasse des suppositions, nous voulons que notre modèle détecte les motifs qui signalent une fraude !"
   ]
  },
  {
   "cell_type": "markdown",
   "metadata": {},
   "source": [
    "## Analyse statistique"
   ]
  },
  {
   "cell_type": "markdown",
   "metadata": {},
   "source": [
    "- For dealing with outilers, IQR(Inter Quanrtile Range) in which we will eliminate the outliers those are less than 10th percentile greater than 90th percentile."
   ]
  },
  {
   "cell_type": "code",
   "execution_count": null,
   "metadata": {},
   "outputs": [],
   "source": [
    "Q1 = df.quantile(0.25)\n",
    "Q2 = df.quantile(0.75)\n",
    "IQR = Q2-Q1\n",
    "print(\"IQR de l'ensemble du jeu de données :\")\n",
    "print(IQR)"
   ]
  },
  {
   "cell_type": "code",
   "execution_count": null,
   "metadata": {},
   "outputs": [],
   "source": [
    "print(\"Asymétrie des données :\")\n",
    "df_skew = df.skew()\n",
    "print(df_skew)"
   ]
  },
  {
   "cell_type": "markdown",
   "metadata": {},
   "source": [
    "## Box Plot of the data"
   ]
  },
  {
   "cell_type": "code",
   "execution_count": null,
   "metadata": {},
   "outputs": [],
   "source": [
    "print(\"Détection des valeurs aberrantes :\\n  \")\n",
    "plt.figure(figsize=(12,8))\n",
    "plt.boxplot(df, vert=False)\n",
    "plt.title(\"Détection des valeurs aberrantes\")\n",
    "plt.show()"
   ]
  },
  {
   "cell_type": "markdown",
   "metadata": {},
   "source": [
    "- Temps et Montant : Les axes y affichent des valeurs aberrantes, vérifions cela.\n",
    "Remarque : Les colonnes autres que Temps, Montant et Classe contiennent des nombres dans une certaine plage, nous pouvons les traiter lors de l'étape de prétraitement."
   ]
  },
  {
   "cell_type": "code",
   "execution_count": null,
   "metadata": {},
   "outputs": [],
   "source": [
    "def box_out(df):\n",
    "    print(\"Détection des valeurs aberrantes :\\n \")\n",
    "    plt.figure(figsize=(12,8))\n",
    "    plt.boxplot(df, vert=False)\n",
    "    plt.title(\"Détection des valeurs aberrantes\")\n",
    "    plt.show()\n",
    "    \n",
    "print(\"Colonne Temps\")\n",
    "box_out(df['Temps'])"
   ]
  },
  {
   "cell_type": "markdown",
   "metadata": {},
   "source": [
    "- Il n'y a aucun problème avec la colonne Temps."
   ]
  },
  {
   "cell_type": "markdown",
   "metadata": {},
   "source": [
    "Analyser la fonctionnalité **Montant** pour une meilleure compréhension du Montant."
   ]
  },
  {
   "cell_type": "code",
   "execution_count": null,
   "metadata": {},
   "outputs": [],
   "source": [
    "df['Montant'].describe()"
   ]
  },
  {
   "cell_type": "markdown",
   "metadata": {},
   "source": [
    "La description ci-dessus nous montre que la plage du montant maximal et minimal des transactions est comprise entre 0 et 25 691."
   ]
  },
  {
   "cell_type": "markdown",
   "metadata": {},
   "source": [
    "### Diagramme en boîte sur le montant pour identifier les valeurs aberrantes de cette colonne"
   ]
  },
  {
   "cell_type": "code",
   "execution_count": null,
   "metadata": {},
   "outputs": [],
   "source": [
    "print(\"Valeurs aberrantes du Montant :\")\n",
    "box_out(df['Montant'])      "
   ]
  },
  {
   "cell_type": "markdown",
   "metadata": {},
   "source": [
    "- Il y a une bonne quantité de valeurs aberrantes dans la colonne \"Montant\". La colonne \"Montant\" est très importante dans ces données.\n",
    "- L'image ci-dessus montre que, après 900, il y a des valeurs aberrantes qui sont réparties jusqu'à plus de 25 000+.\n",
    "# Suppression des valeurs aberrantes avec\n",
    "## Plafonnement et plancher basé sur les quantiles"
   ]
  },
  {
   "cell_type": "code",
   "execution_count": null,
   "metadata": {},
   "outputs": [],
   "source": [
    "# Percentiles \n",
    "print(\"10e percentile du Montant : \")\n",
    "print(df[\"Montant\"].quantile(0.10))\n",
    "print(\"90e percentile du Montant : \")\n",
    "print(df[\"Montant\"]. quantile(0.90))\n"
   ]
  },
  {
   "cell_type": "markdown",
   "metadata": {},
   "source": [
    "- D'après les percentiles (10 et 90), nous pouvons supprimer les points de données qui sont en dehors de cette plage, mais il se peut qu'il n'y ait pas de valeurs aberrantes sous le 10e percentile.\n",
    "- Ainsi, supprimons les valeurs aberrantes qui sont supérieures au 90e percentile et traçons un boxplot pour voir s'il y a des valeurs aberrantes inférieures au 10e percentile."
   ]
  },
  {
   "cell_type": "code",
   "execution_count": null,
   "metadata": {},
   "outputs": [],
   "source": [
    "df['Montant'] = np.where(df['Montant']>203.0, 203.0, df['Montant'])\n",
    "\n",
    "print(\"Après avoir supprimé les outliers >90e percentile :\")\n",
    "box_out(df['Montant'])"
   ]
  },
  {
   "cell_type": "markdown",
   "metadata": {},
   "source": [
    "- Nous avons éliminé la plupart des valeurs aberrantes supérieures au 90e percentile des données.\n",
    "- Gardons la queue restante, car elle contient une bonne quantité de points."
   ]
  },
  {
   "cell_type": "code",
   "execution_count": null,
   "metadata": {},
   "outputs": [],
   "source": [
    "\n",
    "sns.lmplot(data=df, x='Temps', y='Montant', hue='Classe', fit_reg=False)\n",
    "\n",
    "\n",
    "fig = plt.gcf()\n",
    "fig.set_size_inches(12, 8)\n",
    "plt.show()\n"
   ]
  },
  {
   "cell_type": "code",
   "execution_count": null,
   "metadata": {
    "tags": []
   },
   "outputs": [],
   "source": [
    "Frauduleux = df[df['Classe'] == 1]\n",
    "Sûr = df[df['Classe'] == 0]\n",
    "\n",
    "print(f\"Forme des transactions frauduleuses : {Frauduleux.shape}\")\n",
    "print(f\"Forme des transactions non frauduleuses : {Sûr.shape}\")\n"
   ]
  },
  {
   "cell_type": "markdown",
   "metadata": {},
   "source": [
    "Comment diffèrent les montants d'argent utilisés dans les différentes classes de transactions ?"
   ]
  },
  {
   "cell_type": "code",
   "execution_count": null,
   "metadata": {
    "tags": []
   },
   "outputs": [],
   "source": [
    "pd.concat([Frauduleux.Montant.describe(), Sûr.Montant.describe()], axis=1)"
   ]
  },
  {
   "cell_type": "markdown",
   "metadata": {},
   "source": [
    "Les transactions frauduleuses se produisent-elles plus fréquemment à certains moments ?"
   ]
  },
  {
   "cell_type": "code",
   "execution_count": null,
   "metadata": {
    "tags": []
   },
   "outputs": [],
   "source": [
    "pd.concat([Frauduleux.Temps.describe(), Sûr.Temps.describe()], axis=1)"
   ]
  },
  {
   "cell_type": "code",
   "execution_count": null,
   "metadata": {
    "tags": []
   },
   "outputs": [],
   "source": [
    "plt.figure(figsize=(10,8))\n",
    "\n",
    "plt.subplot(2, 2, 1)\n",
    "plt.title('Distribution du Temps (Secondes)')\n",
    "\n",
    "sns.distplot(df['Temps'], color='blue');\n",
    "\n",
    "#plot the amount feature\n",
    "plt.subplot(2, 2, 2)\n",
    "plt.title('Distribution du Montant')\n",
    "sns.distplot(df['Montant'],color='green');"
   ]
  },
  {
   "cell_type": "code",
   "execution_count": null,
   "metadata": {
    "tags": []
   },
   "outputs": [],
   "source": [
    "plt.figure(figsize=(12, 10))\n",
    "\n",
    "plt.subplot(2, 2, 1)\n",
    "df[df.Class == 1].Time.hist(bins=35, color='blue', alpha=0.6, label=\"Transaction Frauduleuse\")\n",
    "plt.legend()\n",
    "\n",
    "plt.subplot(2, 2, 2)\n",
    "df[df.Classe == 0].Time.hist(bins=35, color='green', alpha=0.6, label=\"Transaction Non Frauduleuse\")\n",
    "plt.legend()"
   ]
  },
  {
   "cell_type": "markdown",
   "metadata": {},
   "source": [
    "En observant les distributions, nous pouvons avoir une idée de la façon dont ces caractéristiques sont biaisées, et nous pouvons également examiner les distributions des autres caractéristiques. Il existe des techniques qui peuvent aider à réduire l'asymétrie des distributions, et ces techniques seront mises en œuvre dans ce cahier dans le futur.\n",
    "\n",
    "Il ne semble pas que l'heure de la transaction soit un facteur important ici, d'après les observations ci-dessus. Maintenant, prenons un échantillon du jeu de données pour notre modélisation et nos prédictions."
   ]
  },
  {
   "cell_type": "code",
   "execution_count": null,
   "metadata": {
    "tags": []
   },
   "outputs": [],
   "source": [
    "df.hist(figsize=(20,20))"
   ]
  },
  {
   "cell_type": "code",
   "execution_count": null,
   "metadata": {
    "tags": []
   },
   "outputs": [],
   "source": [
    "# df.corr()"
   ]
  },
  {
   "cell_type": "code",
   "execution_count": null,
   "metadata": {
    "tags": []
   },
   "outputs": [],
   "source": [
    "#Trouvons les corrélations élevées\n",
    "\n",
    "plt.figure(figsize=(10,8))\n",
    "sns.heatmap(data=df.corr(), vmin=0,vmax=0.5, annot=False)\n",
    "plt.show()"
   ]
  },
  {
   "cell_type": "markdown",
   "metadata": {},
   "source": [
    "## Les corrélations les plus élevées proviennent de :\n",
    "\n",
    "- Temps et V3 (-0.42)\n",
    "- Montant et V2 (-0.53)\n",
    "- Montant et V4 (0.4)\n"
   ]
  },
  {
   "cell_type": "markdown",
   "metadata": {},
   "source": [
    "- Bien que ces corrélations soient élevées, je ne m'attends pas à ce qu'elles présentent un risque de multicolinéarité.\n",
    "\n",
    "- La matrice de corrélation montre également qu'aucun des composants PCA de V1 à V28 n'a de corrélation entre eux. Cependant, si nous observons la classe, elle présente certaines corrélations positives et négatives avec les composants V, mais n'a aucune corrélation avec le Temps et le Montant."
   ]
  },
  {
   "cell_type": "markdown",
   "metadata": {},
   "source": [
    "# Traitement des données"
   ]
  },
  {
   "cell_type": "markdown",
   "metadata": {},
   "source": [
    "Le temps et le montant doivent être mis à l'échelle comme les autres colonnes."
   ]
  },
  {
   "cell_type": "markdown",
   "metadata": {},
   "source": [
    "Division du jeu de données en ensembles d'entraînement et de test"
   ]
  },
  {
   "cell_type": "code",
   "execution_count": null,
   "metadata": {
    "tags": []
   },
   "outputs": [],
   "source": [
    "from sklearn.model_selection import train_test_split\n",
    "\n",
    "X = df.iloc[:,:-1].values\n",
    "y = df.iloc[:,-1].values\n",
    "\n",
    "X_train, X_test, y_train, y_test = train_test_split(X, y, test_size=0.3, random_state=42)\n"
   ]
  },
  {
   "cell_type": "code",
   "execution_count": null,
   "metadata": {
    "tags": []
   },
   "outputs": [],
   "source": [
    "print(X.shape, X_train.shape, X_test.shape)"
   ]
  },
  {
   "cell_type": "markdown",
   "metadata": {},
   "source": [
    "Standardisation"
   ]
  },
  {
   "cell_type": "code",
   "execution_count": null,
   "metadata": {
    "tags": []
   },
   "outputs": [],
   "source": [
    "from sklearn.preprocessing import StandardScaler\n",
    "sc = StandardScaler()\n",
    "X_train = sc.fit_transform(X_train)\n",
    "X_test = sc.transform(X_test)"
   ]
  },
  {
   "cell_type": "markdown",
   "metadata": {},
   "source": [
    "\n",
    "# Entraînement du Modèle de Machine Learning\n",
    "Il s'agit d'une tâche supervisée de Machine Learning avec un problème de classification.\n",
    "\n",
    "# XGBoost\n",
    "\n",
    "(Si le modèle ne s'entraîne pas bien avec les algorithmes ci-dessus, nous pouvons entraîner avec ANN)"
   ]
  },
  {
   "cell_type": "code",
   "execution_count": null,
   "metadata": {
    "tags": []
   },
   "outputs": [],
   "source": [
    "from xgboost import XGBClassifier\n",
    "print(\"XGBoost fonctionne!\")\n",
    "from sklearn.ensemble import RandomForestClassifier "
   ]
  },
  {
   "cell_type": "markdown",
   "metadata": {},
   "source": [
    "## Classificateur XGBoost"
   ]
  },
  {
   "cell_type": "code",
   "execution_count": null,
   "metadata": {
    "tags": []
   },
   "outputs": [],
   "source": [
    "print(\"Entraînement avec le classificateur XGBoost : \")\n",
    "xgb = XGBClassifier()\n",
    "xgb.fit(X_train, y_train)\n",
    "\n",
    "print(\"\\nScore du classificateur XGBoost : \")\n",
    "xgb.score(X_train, y_train)"
   ]
  },
  {
   "cell_type": "markdown",
   "metadata": {},
   "source": [
    "# Évaluation du Modèle\n"
   ]
  },
  {
   "cell_type": "markdown",
   "metadata": {},
   "source": [
    "\n",
    "Score de l'entraînement\n"
   ]
  },
  {
   "cell_type": "code",
   "execution_count": null,
   "metadata": {},
   "outputs": [],
   "source": [
    "from sklearn.metrics import accuracy_score, classification_report, confusion_matrix"
   ]
  },
  {
   "cell_type": "code",
   "execution_count": null,
   "metadata": {
    "tags": []
   },
   "outputs": [],
   "source": [
    "train_pred = xgb.predict(X_train)\n",
    "print(accuracy_score(train_pred, y_train))"
   ]
  },
  {
   "cell_type": "markdown",
   "metadata": {},
   "source": [
    "Score de test\n"
   ]
  },
  {
   "cell_type": "code",
   "execution_count": null,
   "metadata": {
    "tags": []
   },
   "outputs": [],
   "source": [
    "test_pred = xgb.predict(X_test)\n",
    "print(accuracy_score(test_pred, y_test))"
   ]
  },
  {
   "cell_type": "markdown",
   "metadata": {},
   "source": [
    "**Classification Report**"
   ]
  },
  {
   "cell_type": "code",
   "execution_count": null,
   "metadata": {
    "tags": []
   },
   "outputs": [],
   "source": [
    "print(classification_report(test_pred, y_test))"
   ]
  },
  {
   "cell_type": "markdown",
   "metadata": {},
   "source": [
    "**Matrice de confusion**"
   ]
  },
  {
   "cell_type": "code",
   "execution_count": null,
   "metadata": {
    "tags": []
   },
   "outputs": [],
   "source": [
    "cm = confusion_matrix(y_test, test_pred)\n",
    "print(\"Matrice de confusion : \\n\", cm)"
   ]
  },
  {
   "cell_type": "markdown",
   "metadata": {},
   "source": [
    "## Notre modèle fonctionne très bien pour ce problème.\n",
    " Il n'y a pas besoin de réglage."
   ]
  },
  {
   "cell_type": "code",
   "execution_count": null,
   "metadata": {},
   "outputs": [],
   "source": []
  }
 ],
 "metadata": {
  "kernelspec": {
   "display_name": "Python 3 (ipykernel)",
   "language": "python",
   "name": "python3"
  },
  "language_info": {
   "codemirror_mode": {
    "name": "ipython",
    "version": 3
   },
   "file_extension": ".py",
   "mimetype": "text/x-python",
   "name": "python",
   "nbconvert_exporter": "python",
   "pygments_lexer": "ipython3",
   "version": "3.12.0"
  }
 },
 "nbformat": 4,
 "nbformat_minor": 4
}
